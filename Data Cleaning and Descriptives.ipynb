{
 "cells": [
  {
   "cell_type": "code",
   "execution_count": 1,
   "id": "6e9831a5",
   "metadata": {
    "id": "6e9831a5"
   },
   "outputs": [
    {
     "name": "stderr",
     "output_type": "stream",
     "text": [
      "[nltk_data] Downloading package stopwords to\n",
      "[nltk_data]     /Users/jessicaloureiro/nltk_data...\n",
      "[nltk_data]   Package stopwords is already up-to-date!\n",
      "[nltk_data] Downloading package punkt to\n",
      "[nltk_data]     /Users/jessicaloureiro/nltk_data...\n",
      "[nltk_data]   Package punkt is already up-to-date!\n",
      "[nltk_data] Downloading package wordnet to\n",
      "[nltk_data]     /Users/jessicaloureiro/nltk_data...\n",
      "[nltk_data]   Package wordnet is already up-to-date!\n"
     ]
    }
   ],
   "source": [
    "import pandas as pd\n",
    "import numpy as np\n",
    "import text2emotion as te\n",
    "import pysentimiento as create_analyzer\n",
    "\n",
    "import warnings\n",
    "warnings.filterwarnings('ignore')\n",
    "import pandas as pd"
   ]
  },
  {
   "cell_type": "code",
   "execution_count": 2,
   "id": "7d964138",
   "metadata": {
    "id": "7d964138"
   },
   "outputs": [],
   "source": [
    "# Load the two datasets\n",
    "biden = pd.read_csv(\"Data/hashtag_joebiden.csv\", lineterminator='\\n')\n",
    "trump = pd.read_csv(\"Data/hashtag_donaldtrump.csv\", lineterminator='\\n')"
   ]
  },
  {
   "cell_type": "code",
   "execution_count": 3,
   "id": "a6848a2d",
   "metadata": {},
   "outputs": [],
   "source": [
    "biden[\"president_hashtag\"]='joebiden'\n",
    "trump[\"president_hashtag\"]='donaldtrump'"
   ]
  },
  {
   "cell_type": "code",
   "execution_count": 4,
   "id": "6de3d492",
   "metadata": {
    "id": "6de3d492"
   },
   "outputs": [],
   "source": [
    "# Combine them into one dataframe\n",
    "all_tweets = pd.concat([biden, trump]).drop_duplicates([\"tweet_id\"]).reset_index(drop = True)"
   ]
  },
  {
   "cell_type": "code",
   "execution_count": 5,
   "id": "28bdb1d0",
   "metadata": {},
   "outputs": [],
   "source": [
    "# Select only tweets from the US\n",
    "df_us_1 = all_tweets[(all_tweets['country'] == 'United States of America')]\n",
    "df_us_2 = all_tweets[(all_tweets['country'] == 'United States')]\n",
    "df_us_tweets = pd.concat([df_us_1, df_us_2])"
   ]
  },
  {
   "cell_type": "code",
   "execution_count": 6,
   "id": "oeXeyo9Cxv3g",
   "metadata": {
    "id": "oeXeyo9Cxv3g"
   },
   "outputs": [],
   "source": [
    "# Select only the useful columns\n",
    "all_tweets = all_tweets[[\"created_at\",\n",
    "                \"tweet_id\",\n",
    "                \"tweet\",\n",
    "                \"likes\",\n",
    "                \"retweet_count\",\n",
    "                \"user_screen_name\",\n",
    "                \"user_join_date\",\n",
    "                \"user_followers_count\",\n",
    "                \"state\",\n",
    "                \"president_hashtag\"]]"
   ]
  },
  {
   "cell_type": "code",
   "execution_count": 7,
   "id": "nk_TEtCj1amI",
   "metadata": {
    "id": "nk_TEtCj1amI"
   },
   "outputs": [],
   "source": [
    "# Define the states for swing, red and blue states\n",
    "swing = ['Arizona', 'Florida', 'Georgia', 'Iowa', 'Michigan', 'Minnesota', 'Nevada', 'New Hampshire', 'North Carolina', 'Ohio', 'Pennsylvania', 'Texas', 'Wisconsin']\n",
    "republican = ['Idaho', 'Wyoming', 'North Dakota', 'South Dakota', 'Montana', 'Utah', 'Kansas', 'Oklahoma', 'Alabama', 'Mississippi', 'Louisiana', 'Arkansas', 'Tennessee', 'Kentucky', 'South Carolina', 'Alaska', 'West Virginia', 'Missouri', 'Nebraska']\n",
    "democrat = ['New York', 'New Jersey', 'Maryland', 'Delaware', 'New England', 'Vermont', 'Massachusetts', 'Rhode Island', 'Connecticut', 'California', 'Oregon', 'Washington', 'Hawaii', 'New Mexico', 'Illinois', 'Colorado', 'Virginia', 'Maine']\n",
    "all_states = swing + republican + democrat"
   ]
  },
  {
   "cell_type": "code",
   "execution_count": 8,
   "id": "ede1660a",
   "metadata": {},
   "outputs": [],
   "source": [
    "# To remove states that are not in the US\n",
    "all_tweets = all_tweets[all_tweets['state'].isin(all_states)]"
   ]
  },
  {
   "cell_type": "code",
   "execution_count": 9,
   "id": "61963d99",
   "metadata": {},
   "outputs": [],
   "source": [
    "# create column for dominant party:\n",
    "# create a list of conditions\n",
    "conditions = [\n",
    "    (all_tweets['state'].isin(swing)),\n",
    "    (all_tweets['state'].isin(republican)),\n",
    "    (all_tweets['state'].isin(democrat))\n",
    "    ]\n",
    "\n",
    "# create a list of the values we want to assign for each condition\n",
    "values = ['swing', 'republican', 'democrat']\n",
    "\n",
    "# create a new column and use np.select to assign values to it using our lists as arguments\n",
    "all_tweets['dominant_party'] = np.select(conditions, values)"
   ]
  },
  {
   "cell_type": "code",
   "execution_count": 10,
   "id": "79aae5f7",
   "metadata": {
    "scrolled": true
   },
   "outputs": [
    {
     "data": {
      "image/png": "[encoded data removed]",
      "text/plain": [
       "<Figure size 432x288 with 1 Axes>"
      ]
     },
     "metadata": {
      "needs_background": "light"
     },
     "output_type": "display_data"
    }
   ],
   "source": [
    "import matplotlib.pyplot as plt\n",
    "fig = plt.figure()\n",
    "ax = all_tweets.dominant_party.value_counts().plot(kind = 'bar',\n",
    "                                    title=\"Number of tweets per state category\",color=['#A7C7E7', '#C3B1E1', '#ff6961'])\n",
    "ax.set_xlabel(\"State Category\")\n",
    "ax.set_ylabel(\"Number of tweets\")\n",
    "plt.xticks(rotation=0)\n",
    "\n",
    "fig.savefig('all_tweets_dominant_party.jpg', bbox_inches='tight')"
   ]
  },
  {
   "cell_type": "code",
   "execution_count": 11,
   "id": "0626672d",
   "metadata": {},
   "outputs": [
    {
     "data": {
      "text/plain": [
       "democrat      148295\n",
       "swing         108458\n",
       "republican     26376\n",
       "Name: dominant_party, dtype: int64"
      ]
     },
     "execution_count": 11,
     "metadata": {},
     "output_type": "execute_result"
    }
   ],
   "source": [
    "all_tweets.dominant_party.value_counts()"
   ]
  },
  {
   "cell_type": "code",
   "execution_count": 12,
   "id": "9d313f76",
   "metadata": {},
   "outputs": [
    {
     "data": {
      "text/plain": [
       "democrat      0.523772\n",
       "swing         0.383069\n",
       "republican    0.093159\n",
       "Name: dominant_party, dtype: float64"
      ]
     },
     "execution_count": 12,
     "metadata": {},
     "output_type": "execute_result"
    }
   ],
   "source": [
    "all_tweets.dominant_party.value_counts(normalize=True)"
   ]
  },
  {
   "cell_type": "markdown",
   "id": "02cc3323",
   "metadata": {},
   "source": [
    "The data is quite imbalanced. There are almost 6 times more tweets by democrats than by republicans. The percentages of tweets per dominant party are: 52.4% democrats, 38.3% swing and 9.3% republicans. "
   ]
  },
  {
   "cell_type": "code",
   "execution_count": 13,
   "id": "b3f61d87",
   "metadata": {},
   "outputs": [
    {
     "data": {
      "text/plain": [
       "<AxesSubplot:>"
      ]
     },
     "execution_count": 13,
     "metadata": {},
     "output_type": "execute_result"
    },
    {
     "data": {
      "image/png": "[encoded data removed]",
      "text/plain": [
       "<Figure size 432x288 with 1 Axes>"
      ]
     },
     "metadata": {
      "needs_background": "light"
     },
     "output_type": "display_data"
    }
   ],
   "source": [
    "all_tweets.state.value_counts().plot(kind = 'bar')"
   ]
  },
  {
   "cell_type": "markdown",
   "id": "83864461",
   "metadata": {},
   "source": [
    "The same inbalance is visible when looking at tweets per state"
   ]
  },
  {
   "cell_type": "code",
   "execution_count": 14,
   "id": "07c1bb01",
   "metadata": {},
   "outputs": [
    {
     "data": {
      "image/png": "[encoded data removed]",
      "text/plain": [
       "<Figure size 432x288 with 1 Axes>"
      ]
     },
     "metadata": {
      "needs_background": "light"
     },
     "output_type": "display_data"
    }
   ],
   "source": [
    "fig = plt.figure()\n",
    "ax = all_tweets.president_hashtag.value_counts().plot(kind = 'bar',\n",
    "                                    title=\"Number of tweets per candidate hashtag\",color=['#A7C7E7', '#ff6961'])\n",
    "ax.set_xlabel(\"Hashtag\")\n",
    "ax.set_ylabel(\"Number of tweets\")\n",
    "plt.xticks(rotation=0)\n",
    "\n",
    "fig.savefig('all_tweets_president_hashtag.jpg', bbox_inches='tight')"
   ]
  },
  {
   "cell_type": "code",
   "execution_count": 15,
   "id": "a652fa4a",
   "metadata": {},
   "outputs": [
    {
     "data": {
      "text/plain": [
       "joebiden       0.509333\n",
       "donaldtrump    0.490667\n",
       "Name: president_hashtag, dtype: float64"
      ]
     },
     "execution_count": 15,
     "metadata": {},
     "output_type": "execute_result"
    }
   ],
   "source": [
    "all_tweets.president_hashtag.value_counts(normalize=True)"
   ]
  },
  {
   "cell_type": "markdown",
   "id": "bf127c0d",
   "metadata": {},
   "source": [
    "For the two hashtags for both candidates, the data is almost perfectly balanced."
   ]
  },
  {
   "cell_type": "code",
   "execution_count": 16,
   "id": "332258da",
   "metadata": {},
   "outputs": [
    {
     "data": {
      "text/html": [
       "<div>\n",
       "<style scoped>\n",
       "    .dataframe tbody tr th:only-of-type {\n",
       "        vertical-align: middle;\n",
       "    }\n",
       "\n",
       "    .dataframe tbody tr th {\n",
       "        vertical-align: top;\n",
       "    }\n",
       "\n",
       "    .dataframe thead th {\n",
       "        text-align: right;\n",
       "    }\n",
       "</style>\n",
       "<table border=\"1\" class=\"dataframe\">\n",
       "  <thead>\n",
       "    <tr style=\"text-align: right;\">\n",
       "      <th></th>\n",
       "      <th>tweet_id</th>\n",
       "      <th>likes</th>\n",
       "      <th>retweet_count</th>\n",
       "      <th>user_followers_count</th>\n",
       "    </tr>\n",
       "  </thead>\n",
       "  <tbody>\n",
       "    <tr>\n",
       "      <th>count</th>\n",
       "      <td>2.831290e+05</td>\n",
       "      <td>283129.000000</td>\n",
       "      <td>283129.000000</td>\n",
       "      <td>2.831290e+05</td>\n",
       "    </tr>\n",
       "    <tr>\n",
       "      <th>mean</th>\n",
       "      <td>1.321738e+18</td>\n",
       "      <td>8.937936</td>\n",
       "      <td>2.075284</td>\n",
       "      <td>8.560351e+03</td>\n",
       "    </tr>\n",
       "    <tr>\n",
       "      <th>std</th>\n",
       "      <td>2.719115e+15</td>\n",
       "      <td>421.057767</td>\n",
       "      <td>64.347973</td>\n",
       "      <td>8.936253e+04</td>\n",
       "    </tr>\n",
       "    <tr>\n",
       "      <th>min</th>\n",
       "      <td>1.316529e+18</td>\n",
       "      <td>0.000000</td>\n",
       "      <td>0.000000</td>\n",
       "      <td>0.000000e+00</td>\n",
       "    </tr>\n",
       "    <tr>\n",
       "      <th>25%</th>\n",
       "      <td>1.319455e+18</td>\n",
       "      <td>0.000000</td>\n",
       "      <td>0.000000</td>\n",
       "      <td>1.250000e+02</td>\n",
       "    </tr>\n",
       "    <tr>\n",
       "      <th>50%</th>\n",
       "      <td>1.322115e+18</td>\n",
       "      <td>0.000000</td>\n",
       "      <td>0.000000</td>\n",
       "      <td>6.090000e+02</td>\n",
       "    </tr>\n",
       "    <tr>\n",
       "      <th>75%</th>\n",
       "      <td>1.324165e+18</td>\n",
       "      <td>1.000000</td>\n",
       "      <td>0.000000</td>\n",
       "      <td>2.494000e+03</td>\n",
       "    </tr>\n",
       "    <tr>\n",
       "      <th>max</th>\n",
       "      <td>1.325589e+18</td>\n",
       "      <td>165702.000000</td>\n",
       "      <td>20615.000000</td>\n",
       "      <td>5.750841e+06</td>\n",
       "    </tr>\n",
       "  </tbody>\n",
       "</table>\n",
       "</div>"
      ],
      "text/plain": [
       "           tweet_id          likes  retweet_count  user_followers_count\n",
       "count  2.831290e+05  283129.000000  283129.000000          2.831290e+05\n",
       "mean   1.321738e+18       8.937936       2.075284          8.560351e+03\n",
       "std    2.719115e+15     421.057767      64.347973          8.936253e+04\n",
       "min    1.316529e+18       0.000000       0.000000          0.000000e+00\n",
       "25%    1.319455e+18       0.000000       0.000000          1.250000e+02\n",
       "50%    1.322115e+18       0.000000       0.000000          6.090000e+02\n",
       "75%    1.324165e+18       1.000000       0.000000          2.494000e+03\n",
       "max    1.325589e+18  165702.000000   20615.000000          5.750841e+06"
      ]
     },
     "execution_count": 16,
     "metadata": {},
     "output_type": "execute_result"
    }
   ],
   "source": [
    "# General descriptives\n",
    "all_tweets.describe()"
   ]
  },
  {
   "cell_type": "markdown",
   "id": "4deb18eb",
   "metadata": {},
   "source": [
    "Due to the imbalanced data, we will use the 10.000 most liked tweets per 'dominant_party'"
   ]
  },
  {
   "cell_type": "code",
   "execution_count": 17,
   "id": "d9fd79fe",
   "metadata": {},
   "outputs": [],
   "source": [
    "# Create new dataframe with 10.000 most liked tweets in each category\n",
    "most_likes_rep = all_tweets[all_tweets['dominant_party']=='republican'].nlargest(10000, ['likes'])\n",
    "most_likes_swing = all_tweets[all_tweets['dominant_party']=='swing'].nlargest(10000, ['likes'])\n",
    "most_likes_dem = all_tweets[all_tweets['dominant_party']=='democrat'].nlargest(10000, ['likes'])\n",
    "all_tweets_most_likes = pd.concat([most_likes_rep, most_likes_swing, most_likes_dem]).drop_duplicates([\"tweet_id\"]).reset_index(drop = True)"
   ]
  },
  {
   "cell_type": "code",
   "execution_count": 18,
   "id": "e833432a",
   "metadata": {},
   "outputs": [],
   "source": [
    "# Change data type of numerical values\n",
    "all_tweets_most_likes['tweet_id']=all_tweets_most_likes['tweet_id'].astype('uint32')\n",
    "all_tweets_most_likes['likes']=all_tweets_most_likes['likes'].astype('uint32')\n",
    "all_tweets_most_likes['retweet_count']=all_tweets_most_likes['retweet_count'].astype('uint16')\n",
    "all_tweets_most_likes['user_followers_count']=all_tweets_most_likes['user_followers_count'].astype('uint32')"
   ]
  },
  {
   "cell_type": "code",
   "execution_count": 19,
   "id": "16893947",
   "metadata": {},
   "outputs": [
    {
     "data": {
      "text/html": [
       "<div>\n",
       "<style scoped>\n",
       "    .dataframe tbody tr th:only-of-type {\n",
       "        vertical-align: middle;\n",
       "    }\n",
       "\n",
       "    .dataframe tbody tr th {\n",
       "        vertical-align: top;\n",
       "    }\n",
       "\n",
       "    .dataframe thead th {\n",
       "        text-align: right;\n",
       "    }\n",
       "</style>\n",
       "<table border=\"1\" class=\"dataframe\">\n",
       "  <thead>\n",
       "    <tr style=\"text-align: right;\">\n",
       "      <th></th>\n",
       "      <th>likes</th>\n",
       "      <th>retweet_count</th>\n",
       "      <th>user_followers_count</th>\n",
       "    </tr>\n",
       "  </thead>\n",
       "  <tbody>\n",
       "    <tr>\n",
       "      <th>count</th>\n",
       "      <td>30000.0</td>\n",
       "      <td>30000.0</td>\n",
       "      <td>30000.0</td>\n",
       "    </tr>\n",
       "    <tr>\n",
       "      <th>mean</th>\n",
       "      <td>79.0</td>\n",
       "      <td>18.0</td>\n",
       "      <td>53388.0</td>\n",
       "    </tr>\n",
       "    <tr>\n",
       "      <th>std</th>\n",
       "      <td>1291.0</td>\n",
       "      <td>197.0</td>\n",
       "      <td>265827.0</td>\n",
       "    </tr>\n",
       "    <tr>\n",
       "      <th>min</th>\n",
       "      <td>1.0</td>\n",
       "      <td>0.0</td>\n",
       "      <td>0.0</td>\n",
       "    </tr>\n",
       "    <tr>\n",
       "      <th>25%</th>\n",
       "      <td>4.0</td>\n",
       "      <td>0.0</td>\n",
       "      <td>792.0</td>\n",
       "    </tr>\n",
       "    <tr>\n",
       "      <th>50%</th>\n",
       "      <td>9.0</td>\n",
       "      <td>2.0</td>\n",
       "      <td>3467.0</td>\n",
       "    </tr>\n",
       "    <tr>\n",
       "      <th>75%</th>\n",
       "      <td>23.0</td>\n",
       "      <td>6.0</td>\n",
       "      <td>16544.0</td>\n",
       "    </tr>\n",
       "    <tr>\n",
       "      <th>max</th>\n",
       "      <td>165702.0</td>\n",
       "      <td>20615.0</td>\n",
       "      <td>5750841.0</td>\n",
       "    </tr>\n",
       "  </tbody>\n",
       "</table>\n",
       "</div>"
      ],
      "text/plain": [
       "          likes  retweet_count  user_followers_count\n",
       "count   30000.0        30000.0               30000.0\n",
       "mean       79.0           18.0               53388.0\n",
       "std      1291.0          197.0              265827.0\n",
       "min         1.0            0.0                   0.0\n",
       "25%         4.0            0.0                 792.0\n",
       "50%         9.0            2.0                3467.0\n",
       "75%        23.0            6.0               16544.0\n",
       "max    165702.0        20615.0             5750841.0"
      ]
     },
     "execution_count": 19,
     "metadata": {},
     "output_type": "execute_result"
    }
   ],
   "source": [
    "all_tweets_most_likes[['likes','retweet_count','user_followers_count']].describe().round()"
   ]
  },
  {
   "cell_type": "code",
   "execution_count": 20,
   "id": "7ee9afba",
   "metadata": {},
   "outputs": [
    {
     "data": {
      "text/html": [
       "<div>\n",
       "<style scoped>\n",
       "    .dataframe tbody tr th:only-of-type {\n",
       "        vertical-align: middle;\n",
       "    }\n",
       "\n",
       "    .dataframe tbody tr th {\n",
       "        vertical-align: top;\n",
       "    }\n",
       "\n",
       "    .dataframe thead th {\n",
       "        text-align: right;\n",
       "    }\n",
       "</style>\n",
       "<table border=\"1\" class=\"dataframe\">\n",
       "  <thead>\n",
       "    <tr style=\"text-align: right;\">\n",
       "      <th></th>\n",
       "      <th>tweet_id</th>\n",
       "      <th>likes</th>\n",
       "      <th>retweet_count</th>\n",
       "      <th>user_followers_count</th>\n",
       "    </tr>\n",
       "    <tr>\n",
       "      <th>dominant_party</th>\n",
       "      <th></th>\n",
       "      <th></th>\n",
       "      <th></th>\n",
       "      <th></th>\n",
       "    </tr>\n",
       "  </thead>\n",
       "  <tbody>\n",
       "    <tr>\n",
       "      <th>democrat</th>\n",
       "      <td>2.160732e+13</td>\n",
       "      <td>1821332.0</td>\n",
       "      <td>382636.0</td>\n",
       "      <td>834233034.0</td>\n",
       "    </tr>\n",
       "    <tr>\n",
       "      <th>republican</th>\n",
       "      <td>2.138466e+13</td>\n",
       "      <td>101473.0</td>\n",
       "      <td>27131.0</td>\n",
       "      <td>66831362.0</td>\n",
       "    </tr>\n",
       "    <tr>\n",
       "      <th>swing</th>\n",
       "      <td>2.150376e+13</td>\n",
       "      <td>444283.0</td>\n",
       "      <td>131148.0</td>\n",
       "      <td>700569457.0</td>\n",
       "    </tr>\n",
       "  </tbody>\n",
       "</table>\n",
       "</div>"
      ],
      "text/plain": [
       "                    tweet_id      likes  retweet_count  user_followers_count\n",
       "dominant_party                                                              \n",
       "democrat        2.160732e+13  1821332.0       382636.0           834233034.0\n",
       "republican      2.138466e+13   101473.0        27131.0            66831362.0\n",
       "swing           2.150376e+13   444283.0       131148.0           700569457.0"
      ]
     },
     "execution_count": 20,
     "metadata": {},
     "output_type": "execute_result"
    }
   ],
   "source": [
    "all_tweets_most_likes.groupby('dominant_party').sum()"
   ]
  },
  {
   "cell_type": "code",
   "execution_count": 21,
   "id": "e3970304",
   "metadata": {},
   "outputs": [],
   "source": [
    "all_tweets_most_likes.to_csv(\"most_liked_tweets.csv\")"
   ]
  }
 ],
 "metadata": {
  "colab": {
   "collapsed_sections": [],
   "name": "descriptiveStats.ipynb",
   "provenance": []
  },
  "kernelspec": {
   "display_name": "Python 3 (ipykernel)",
   "language": "python",
   "name": "python3"
  },
  "language_info": {
   "codemirror_mode": {
    "name": "ipython",
    "version": 3
   },
   "file_extension": ".py",
   "mimetype": "text/x-python",
   "name": "python",
   "nbconvert_exporter": "python",
   "pygments_lexer": "ipython3",
   "version": "3.8.12"
  }
 },
 "nbformat": 4,
 "nbformat_minor": 5
}
