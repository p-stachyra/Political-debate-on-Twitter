{
 "cells": [
  {
   "cell_type": "code",
   "execution_count": 1,
   "metadata": {
    "colab": {
     "base_uri": "https://localhost:8080/"
    },
    "id": "hT9vQlU94pE5",
    "outputId": "2ede87e0-6617-4d4e-ff1c-add728e5db9a"
   },
   "outputs": [
    {
     "name": "stdout",
     "output_type": "stream",
     "text": [
      "Mounted at /content/gdrive\n"
     ]
    }
   ],
   "source": [
    "# mounting data onto Google Drive in Google Colab\n",
    "from google.colab import drive\n",
    "drive.mount('/content/gdrive')"
   ]
  },
  {
   "cell_type": "code",
   "execution_count": 2,
   "metadata": {
    "colab": {
     "base_uri": "https://localhost:8080/"
    },
    "id": "bK7yAqIi4plm",
    "outputId": "36c72958-4514-43d5-c361-894694b550b5"
   },
   "outputs": [
    {
     "name": "stderr",
     "output_type": "stream",
     "text": [
      "/usr/local/lib/python3.7/dist-packages/IPython/core/interactiveshell.py:2718: DtypeWarning: Columns (0,4,8) have mixed types.Specify dtype option on import or set low_memory=False.\n",
      "  interactivity=interactivity, compiler=compiler, result=result)\n"
     ]
    }
   ],
   "source": [
    "import pandas as pd\n",
    "\n",
    "# Creating a dataframe\n",
    "\n",
    "df = pd.read_csv('/content/gdrive/MyDrive/Data Mining/randomly_sampled_tweets.csv')\n",
    "#df = pd.read_csv('/content/gdrive/MyDrive/Data Mining/most_liked_tweets.csv')"
   ]
  },
  {
   "cell_type": "code",
   "execution_count": 23,
   "metadata": {
    "id": "A38EVfjz45em"
   },
   "outputs": [],
   "source": [
    "import re\n",
    "\n",
    "def removing_features (text):\n",
    "    \"\"\"\n",
    "    Removes (from a string) urls, mentions, hashtags and html tags\n",
    "    \"\"\"\n",
    "    \n",
    "    CLEANR = re.compile('<.*?>') \n",
    "\n",
    "    text_wo_url = []\n",
    "\n",
    "    for tweet in text: \n",
    "        cleaned_url = re.sub(r'http\\S+', '', tweet, flags=re.MULTILINE)                       # removes url\n",
    "        cleaned_url_mention = re.sub(\"@[A-Za-z0-9_]+\",\"\", cleaned_url)                        # removes mention --> !!! username is also removed\n",
    "        cleaned_url_mention_hashtag = re.sub(\"#[A-Za-z0-9_]+\",\"\", cleaned_url_mention)        # removes hashtag\n",
    "        clean_url_mention_hashtag_html = re.sub(CLEANR, '', cleaned_url_mention_hashtag)      # removes html tag\n",
    "\n",
    "        text_wo_url.append(clean_url_mention_hashtag_html)\n",
    "\n",
    "    return text_wo_url\n"
   ]
  },
  {
   "cell_type": "code",
   "execution_count": 24,
   "metadata": {
    "colab": {
     "base_uri": "https://localhost:8080/"
    },
    "id": "sXfBX6ScCY86",
    "outputId": "31952034-6365-4dbc-ac22-38cb2a185472"
   },
   "outputs": [
    {
     "name": "stdout",
     "output_type": "stream",
     "text": [
      "republican tweets: ['   This is how  made his !  !\\n', 'FBI Allegedly Obtained Hunter Biden Computer, Data on Ukraine Dealings, Report Claims   ', 'These are  people with bats. ', 'The reason why Twitter has locked the New York Post account is because the Post is reporting on explosive new revelations that prove  lied to coverup his corrupt and illegal activity as Vice President. ', \"Twazis says they blocked NY Post's  story cuz they block stories with stolen info.\\n\\nLet's test their theory &amp;  agenda in protecting  with the story by the  on STOLEN secret audio tapes of !\\n\\n \\n \", 'On Tuesday, November 8, I stopped by the store &amp; got myself a single slice of chocolate cake to celebrate as  won the presidency. \\n\\nI threw that slice in the trash on 11/9/16, but I will be buying a whole damn cake on November 3, 2020.   ', ' Actually,  the President was impeached to cover the Lies by  , Obama and Hillary Clinton \\n\\nThere, I fixed it for you\\n\\n  ', 'I think I finally found what’s wrong with  besides  this would explain his uncanny ability to lie for 40 + years ', 'Serious as 4 heart attacks &amp; a stroke &amp; you have to search to find the story. SMDH  ', 'Banned Biden News: New York Post Ukrainian Hunter Biden Article       '] \n",
      "\n",
      "swing tweets: [' Watching  melt down as  gets re-elected would be even funnier.', '  s need to watch this. \"   wouldn\\'t even get security clearance at this point, how can he be president\"\\n\\nWatch it until the end and then decide, they cover many topics associated with the source of the , not just fluff.\\n\\n', ' Why are  so scared of voters?  \\n\\nWhy are  supporters actually anarchists?\\n\\nWhy are any  or  supporting a criminal carnival clown who is a self-styled Joker? \\n\\nJust saying.', 'If we’re not careful our children’s children will never see this America! DemCast            .     ', ' doesn’t care If / are  by \\n\\nMany comments indicate they,  &amp; people w  are to be disregarded in plans to  &amp;  communities from  . We \\xa0\\xa0\\xa0\\xa0\\xa0 too!\\n\\n   ', ' Maybe if  keeps grunting hard enough they’ll be able to shit out a  before long. ', \"It's OK Donald , you lost; you're a loser, we've always known that, as you did, too, but now it's official: you're a loser.\\n\\nCC       \", 'We don\\'t need money... Who\\'s \"we\"? \\n    ', '  won’t have to change his name he’ll have a number INMATE ', 'RT.    '] \n",
      "\n",
      "democrat tweets: [\"Ice Cube: 'I'm not playing politics' by working with Trump campaign on 'Platinum Plan' for Black Americans   \\nChris Wallace is a conniving little demo-c-rat beatch...\\n   \", 'Today, the United States election has been called for Joe Biden, who has received the 270 electoral votes needed to become President-Elect.    \\nBiden Wins The 2020 Election ', '\" has to think about his whole life before he speaks.\" ', ' This was  interviewing style tonight. Lol     ', ' For the people who voted for  and your vote has not been counted yet:  says you do not count. Your voice does not count, even when it comes to your local decisions on your ballots...', '    ', \"Because  never makes mistakes or accepts the blame for them, so nothing SHOULD be changed in his view... which is why he's a FAILED businessman, , &amp; human being! \", 'As Democrats talk about how wrong it is for President Trump to file all these lawsuits, remember that Democrats filed the same exact lawsuits in 2000 during Bush v. Gore.  That  always exposes Democrats.     ', 'Darwin in REVERSE\\n                   ', \". lied to and fucked over farmers, factory, coal and steelworkers. They aren't forgetting...  \"] \n",
      "\n"
     ]
    }
   ],
   "source": [
    "# republican\n",
    "df_republicans = df[df.dominant_party == \"republican\"]\n",
    "republican_texts = removing_features(df_republicans.tweet)\n",
    "print('republican tweets:',republican_texts[0:10], '\\n')\n",
    "\n",
    "# swing\n",
    "df_swing = df[df.dominant_party == \"swing\"]\n",
    "swing_texts = removing_features(df_swing.tweet)\n",
    "print('swing tweets:', swing_texts[0:10], '\\n')\n",
    "\n",
    "# democrat\n",
    "df_democrat = df[df.dominant_party == \"democrat\"]\n",
    "democrat_texts = removing_features(df_democrat.tweet)\n",
    "print('democrat tweets:', democrat_texts[:10], '\\n')"
   ]
  }
 ],
 "metadata": {
  "colab": {
   "name": "DM_Project_Preprocessing_Piotr.ipynb",
   "provenance": []
  },
  "kernelspec": {
   "display_name": "Python 3 (ipykernel)",
   "language": "python",
   "name": "python3"
  },
  "language_info": {
   "codemirror_mode": {
    "name": "ipython",
    "version": 3
   },
   "file_extension": ".py",
   "mimetype": "text/x-python",
   "name": "python",
   "nbconvert_exporter": "python",
   "pygments_lexer": "ipython3",
   "version": "3.9.7"
  }
 },
 "nbformat": 4,
 "nbformat_minor": 1
}
