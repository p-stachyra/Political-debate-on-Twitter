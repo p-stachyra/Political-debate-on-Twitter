{
 "cells": [
  {
   "cell_type": "code",
   "execution_count": 1,
   "metadata": {
    "colab": {
     "base_uri": "https://localhost:8080/"
    },
    "id": "XkXfmIU4gHM4",
    "outputId": "c971133a-b8d1-488a-9718-74f883b5fc9a"
   },
   "outputs": [
    {
     "name": "stdout",
     "output_type": "stream",
     "text": [
      "Drive already mounted at /content/gdrive; to attempt to forcibly remount, call drive.mount(\"/content/gdrive\", force_remount=True).\n"
     ]
    }
   ],
   "source": [
    "# mounting data onto Google Drive in Google Colab\n",
    "from google.colab import drive\n",
    "drive.mount('/content/gdrive')"
   ]
  },
  {
   "cell_type": "code",
   "execution_count": 2,
   "metadata": {
    "colab": {
     "base_uri": "https://localhost:8080/"
    },
    "id": "gtZznAmYgGPM",
    "outputId": "d722cca4-1833-403b-ba7c-3495bd9a1987"
   },
   "outputs": [
    {
     "name": "stderr",
     "output_type": "stream",
     "text": [
      "/usr/local/lib/python3.7/dist-packages/IPython/core/interactiveshell.py:2718: DtypeWarning: Columns (0,4,8) have mixed types.Specify dtype option on import or set low_memory=False.\n",
      "  interactivity=interactivity, compiler=compiler, result=result)\n"
     ]
    }
   ],
   "source": [
    "import pandas as pd\n",
    "\n",
    "# Creating a dataframe\n",
    "\n",
    "df = pd.read_csv('/content/gdrive/MyDrive/Data Mining/randomly_sampled_tweets.csv')"
   ]
  },
  {
   "cell_type": "code",
   "execution_count": 3,
   "metadata": {
    "colab": {
     "base_uri": "https://localhost:8080/",
     "height": 534
    },
    "id": "8tukS5z9gZeH",
    "outputId": "3a642862-0479-4228-b9a1-bbf1b78eaef2"
   },
   "outputs": [
    {
     "data": {
      "text/html": [
       "\n",
       "  <div id=\"df-a1db0413-ea99-4c10-bcb5-5aa789e4fc37\">\n",
       "    <div class=\"colab-df-container\">\n",
       "      <div>\n",
       "<style scoped>\n",
       "    .dataframe tbody tr th:only-of-type {\n",
       "        vertical-align: middle;\n",
       "    }\n",
       "\n",
       "    .dataframe tbody tr th {\n",
       "        vertical-align: top;\n",
       "    }\n",
       "\n",
       "    .dataframe thead th {\n",
       "        text-align: right;\n",
       "    }\n",
       "</style>\n",
       "<table border=\"1\" class=\"dataframe\">\n",
       "  <thead>\n",
       "    <tr style=\"text-align: right;\">\n",
       "      <th></th>\n",
       "      <th>Unnamed: 0</th>\n",
       "      <th>created_at</th>\n",
       "      <th>tweet_id</th>\n",
       "      <th>tweet</th>\n",
       "      <th>likes</th>\n",
       "      <th>retweet_count</th>\n",
       "      <th>user_screen_name</th>\n",
       "      <th>user_join_date</th>\n",
       "      <th>user_followers_count</th>\n",
       "      <th>state</th>\n",
       "      <th>president_hashtag</th>\n",
       "      <th>dominant_party</th>\n",
       "    </tr>\n",
       "  </thead>\n",
       "  <tbody>\n",
       "    <tr>\n",
       "      <th>0</th>\n",
       "      <td>0</td>\n",
       "      <td>2020-10-15 00:00:20</td>\n",
       "      <td>2035601408</td>\n",
       "      <td>@IslandGirlPRV @BradBeauregardJ @MeidasTouch T...</td>\n",
       "      <td>0</td>\n",
       "      <td>0.0</td>\n",
       "      <td>Flag_Wavers</td>\n",
       "      <td>2015-08-30 19:38:21</td>\n",
       "      <td>1536</td>\n",
       "      <td>Montana</td>\n",
       "      <td>joebiden</td>\n",
       "      <td>republican</td>\n",
       "    </tr>\n",
       "    <tr>\n",
       "      <th>1</th>\n",
       "      <td>1</td>\n",
       "      <td>2020-10-15 00:00:57</td>\n",
       "      <td>2442625024</td>\n",
       "      <td>FBI Allegedly Obtained Hunter Biden Computer, ...</td>\n",
       "      <td>0</td>\n",
       "      <td>0.0</td>\n",
       "      <td>NewfoundStudio</td>\n",
       "      <td>2018-02-06 04:55:35</td>\n",
       "      <td>266</td>\n",
       "      <td>Kentucky</td>\n",
       "      <td>joebiden</td>\n",
       "      <td>republican</td>\n",
       "    </tr>\n",
       "    <tr>\n",
       "      <th>2</th>\n",
       "      <td>2</td>\n",
       "      <td>2020-10-15 00:04:25</td>\n",
       "      <td>1532481536</td>\n",
       "      <td>These are #Biden people with bats. https://t.c...</td>\n",
       "      <td>0</td>\n",
       "      <td>0.0</td>\n",
       "      <td>UtleyYATM</td>\n",
       "      <td>2010-02-27 12:06:49</td>\n",
       "      <td>151</td>\n",
       "      <td>South Carolina</td>\n",
       "      <td>joebiden</td>\n",
       "      <td>republican</td>\n",
       "    </tr>\n",
       "    <tr>\n",
       "      <th>3</th>\n",
       "      <td>3</td>\n",
       "      <td>2020-10-15 00:04:40</td>\n",
       "      <td>1528209408</td>\n",
       "      <td>The reason why Twitter has locked the New York...</td>\n",
       "      <td>0</td>\n",
       "      <td>0.0</td>\n",
       "      <td>ShaneSchaetzel</td>\n",
       "      <td>2015-03-28 03:51:53</td>\n",
       "      <td>687</td>\n",
       "      <td>Arkansas</td>\n",
       "      <td>joebiden</td>\n",
       "      <td>republican</td>\n",
       "    </tr>\n",
       "    <tr>\n",
       "      <th>4</th>\n",
       "      <td>4</td>\n",
       "      <td>2020-10-15 00:06:04</td>\n",
       "      <td>2039992320</td>\n",
       "      <td>Twazis says they blocked NY Post's #HunterBide...</td>\n",
       "      <td>19</td>\n",
       "      <td>16.0</td>\n",
       "      <td>ArmedPatriot45</td>\n",
       "      <td>2020-05-07 18:58:17</td>\n",
       "      <td>20614</td>\n",
       "      <td>South Carolina</td>\n",
       "      <td>joebiden</td>\n",
       "      <td>republican</td>\n",
       "    </tr>\n",
       "    <tr>\n",
       "      <th>...</th>\n",
       "      <td>...</td>\n",
       "      <td>...</td>\n",
       "      <td>...</td>\n",
       "      <td>...</td>\n",
       "      <td>...</td>\n",
       "      <td>...</td>\n",
       "      <td>...</td>\n",
       "      <td>...</td>\n",
       "      <td>...</td>\n",
       "      <td>...</td>\n",
       "      <td>...</td>\n",
       "      <td>...</td>\n",
       "    </tr>\n",
       "    <tr>\n",
       "      <th>135926</th>\n",
       "      <td>79123</td>\n",
       "      <td>2020-10-29 11:11:34</td>\n",
       "      <td>2304212992</td>\n",
       "      <td>Tiger and Jack are Full #Maga.\\n\\nHave fun wit...</td>\n",
       "      <td>1</td>\n",
       "      <td>0.0</td>\n",
       "      <td>TheRepublic1st</td>\n",
       "      <td>2020-06-13 15:26:17</td>\n",
       "      <td>74</td>\n",
       "      <td>Pennsylvania</td>\n",
       "      <td>joebiden</td>\n",
       "      <td>swing</td>\n",
       "    </tr>\n",
       "    <tr>\n",
       "      <th>135927</th>\n",
       "      <td>79124</td>\n",
       "      <td>2020-10-16 17:09:02</td>\n",
       "      <td>2136416256</td>\n",
       "      <td>If #Trump really gaf about the #Cuban vote in ...</td>\n",
       "      <td>0</td>\n",
       "      <td>0.0</td>\n",
       "      <td>PRodSpeaks</td>\n",
       "      <td>2010-09-24 23:33:37</td>\n",
       "      <td>236</td>\n",
       "      <td>Florida</td>\n",
       "      <td>donaldtrump</td>\n",
       "      <td>swing</td>\n",
       "    </tr>\n",
       "    <tr>\n",
       "      <th>135928</th>\n",
       "      <td>79125</td>\n",
       "      <td>2020-11-06 13:33:38</td>\n",
       "      <td>1586929664</td>\n",
       "      <td>Uh......duh, Andrew Yang!!!!!🤪 The problem is,...</td>\n",
       "      <td>1</td>\n",
       "      <td>1.0</td>\n",
       "      <td>Bill15073265</td>\n",
       "      <td>2018-12-18 22:26:18</td>\n",
       "      <td>40</td>\n",
       "      <td>Florida</td>\n",
       "      <td>joebiden</td>\n",
       "      <td>swing</td>\n",
       "    </tr>\n",
       "    <tr>\n",
       "      <th>135929</th>\n",
       "      <td>79126</td>\n",
       "      <td>2020-10-28 12:18:43</td>\n",
       "      <td>2945880064</td>\n",
       "      <td>#Trump left his own supporters stranded in #NE...</td>\n",
       "      <td>0</td>\n",
       "      <td>0.0</td>\n",
       "      <td>GeneKelsey</td>\n",
       "      <td>2011-11-19 15:49:07</td>\n",
       "      <td>106</td>\n",
       "      <td>Florida</td>\n",
       "      <td>donaldtrump</td>\n",
       "      <td>swing</td>\n",
       "    </tr>\n",
       "    <tr>\n",
       "      <th>135930</th>\n",
       "      <td>79127</td>\n",
       "      <td>2020-11-07 16:37:29</td>\n",
       "      <td>4158001152</td>\n",
       "      <td>YES! #Biden #MVPHarris #ElectionDay https://t....</td>\n",
       "      <td>0</td>\n",
       "      <td>0.0</td>\n",
       "      <td>girlproducer</td>\n",
       "      <td>2011-06-17 16:42:37</td>\n",
       "      <td>208</td>\n",
       "      <td>Georgia</td>\n",
       "      <td>joebiden</td>\n",
       "      <td>swing</td>\n",
       "    </tr>\n",
       "  </tbody>\n",
       "</table>\n",
       "<p>135931 rows × 12 columns</p>\n",
       "</div>\n",
       "      <button class=\"colab-df-convert\" onclick=\"convertToInteractive('df-a1db0413-ea99-4c10-bcb5-5aa789e4fc37')\"\n",
       "              title=\"Convert this dataframe to an interactive table.\"\n",
       "              style=\"display:none;\">\n",
       "        \n",
       "  <svg xmlns=\"http://www.w3.org/2000/svg\" height=\"24px\"viewBox=\"0 0 24 24\"\n",
       "       width=\"24px\">\n",
       "    <path d=\"M0 0h24v24H0V0z\" fill=\"none\"/>\n",
       "    <path d=\"M18.56 5.44l.94 2.06.94-2.06 2.06-.94-2.06-.94-.94-2.06-.94 2.06-2.06.94zm-11 1L8.5 8.5l.94-2.06 2.06-.94-2.06-.94L8.5 2.5l-.94 2.06-2.06.94zm10 10l.94 2.06.94-2.06 2.06-.94-2.06-.94-.94-2.06-.94 2.06-2.06.94z\"/><path d=\"M17.41 7.96l-1.37-1.37c-.4-.4-.92-.59-1.43-.59-.52 0-1.04.2-1.43.59L10.3 9.45l-7.72 7.72c-.78.78-.78 2.05 0 2.83L4 21.41c.39.39.9.59 1.41.59.51 0 1.02-.2 1.41-.59l7.78-7.78 2.81-2.81c.8-.78.8-2.07 0-2.86zM5.41 20L4 18.59l7.72-7.72 1.47 1.35L5.41 20z\"/>\n",
       "  </svg>\n",
       "      </button>\n",
       "      \n",
       "  <style>\n",
       "    .colab-df-container {\n",
       "      display:flex;\n",
       "      flex-wrap:wrap;\n",
       "      gap: 12px;\n",
       "    }\n",
       "\n",
       "    .colab-df-convert {\n",
       "      background-color: #E8F0FE;\n",
       "      border: none;\n",
       "      border-radius: 50%;\n",
       "      cursor: pointer;\n",
       "      display: none;\n",
       "      fill: #1967D2;\n",
       "      height: 32px;\n",
       "      padding: 0 0 0 0;\n",
       "      width: 32px;\n",
       "    }\n",
       "\n",
       "    .colab-df-convert:hover {\n",
       "      background-color: #E2EBFA;\n",
       "      box-shadow: 0px 1px 2px rgba(60, 64, 67, 0.3), 0px 1px 3px 1px rgba(60, 64, 67, 0.15);\n",
       "      fill: #174EA6;\n",
       "    }\n",
       "\n",
       "    [theme=dark] .colab-df-convert {\n",
       "      background-color: #3B4455;\n",
       "      fill: #D2E3FC;\n",
       "    }\n",
       "\n",
       "    [theme=dark] .colab-df-convert:hover {\n",
       "      background-color: #434B5C;\n",
       "      box-shadow: 0px 1px 3px 1px rgba(0, 0, 0, 0.15);\n",
       "      filter: drop-shadow(0px 1px 2px rgba(0, 0, 0, 0.3));\n",
       "      fill: #FFFFFF;\n",
       "    }\n",
       "  </style>\n",
       "\n",
       "      <script>\n",
       "        const buttonEl =\n",
       "          document.querySelector('#df-a1db0413-ea99-4c10-bcb5-5aa789e4fc37 button.colab-df-convert');\n",
       "        buttonEl.style.display =\n",
       "          google.colab.kernel.accessAllowed ? 'block' : 'none';\n",
       "\n",
       "        async function convertToInteractive(key) {\n",
       "          const element = document.querySelector('#df-a1db0413-ea99-4c10-bcb5-5aa789e4fc37');\n",
       "          const dataTable =\n",
       "            await google.colab.kernel.invokeFunction('convertToInteractive',\n",
       "                                                     [key], {});\n",
       "          if (!dataTable) return;\n",
       "\n",
       "          const docLinkHtml = 'Like what you see? Visit the ' +\n",
       "            '<a target=\"_blank\" href=https://colab.research.google.com/notebooks/data_table.ipynb>data table notebook</a>'\n",
       "            + ' to learn more about interactive tables.';\n",
       "          element.innerHTML = '';\n",
       "          dataTable['output_type'] = 'display_data';\n",
       "          await google.colab.output.renderOutput(dataTable, element);\n",
       "          const docLink = document.createElement('div');\n",
       "          docLink.innerHTML = docLinkHtml;\n",
       "          element.appendChild(docLink);\n",
       "        }\n",
       "      </script>\n",
       "    </div>\n",
       "  </div>\n",
       "  "
      ],
      "text/plain": [
       "       Unnamed: 0           created_at  ...  president_hashtag dominant_party\n",
       "0               0  2020-10-15 00:00:20  ...           joebiden     republican\n",
       "1               1  2020-10-15 00:00:57  ...           joebiden     republican\n",
       "2               2  2020-10-15 00:04:25  ...           joebiden     republican\n",
       "3               3  2020-10-15 00:04:40  ...           joebiden     republican\n",
       "4               4  2020-10-15 00:06:04  ...           joebiden     republican\n",
       "...           ...                  ...  ...                ...            ...\n",
       "135926      79123  2020-10-29 11:11:34  ...           joebiden          swing\n",
       "135927      79124  2020-10-16 17:09:02  ...        donaldtrump          swing\n",
       "135928      79125  2020-11-06 13:33:38  ...           joebiden          swing\n",
       "135929      79126  2020-10-28 12:18:43  ...        donaldtrump          swing\n",
       "135930      79127  2020-11-07 16:37:29  ...           joebiden          swing\n",
       "\n",
       "[135931 rows x 12 columns]"
      ]
     },
     "execution_count": 3,
     "metadata": {},
     "output_type": "execute_result"
    }
   ],
   "source": [
    "df"
   ]
  },
  {
   "cell_type": "markdown",
   "metadata": {
    "id": "mwynO8CJbdfZ"
   },
   "source": [
    "# Preprocessing data\n",
    "\n",
    "- Tokenize\n",
    "- Get:\n",
    "  - verbs\n",
    "  - nouns\n",
    "  - adjectives\n",
    "- Lemmatize\n",
    "\n",
    "Stopwords are automatically removed because we look for nouns, verbs and adjectives\n"
   ]
  },
  {
   "cell_type": "markdown",
   "metadata": {
    "id": "NsGsEMrZvcLu"
   },
   "source": [
    "# Everything in 1 block"
   ]
  },
  {
   "cell_type": "code",
   "execution_count": 1,
   "metadata": {
    "id": "uZ1X1661zufT"
   },
   "outputs": [],
   "source": [
    "import re\n",
    "import spacy\n",
    "\n",
    "def preprocessing(texts):\n",
    "\n",
    "  text_wo_url = []\n",
    "  for tweet in texts: \n",
    "    cleaned_url = re.sub(r'http\\S+', '', tweet, flags=re.MULTILINE)  # removing all URLs\n",
    "    text_wo_url.append(cleaned_url)\n",
    "\n",
    "  nlp = spacy.load(\"en_core_web_sm\")\n",
    "\n",
    "  processed_texts = [text for text in nlp.pipe(text_wo_url, \n",
    "                                                disable=[\"ner\",\n",
    "                                                        \"parser\"])]\n",
    "\n",
    "  tokenized_texts_sw_lem_vna = [[word.lemma_ for word in processed_text if (word.pos_ == 'VERB' or word.pos_ == 'NOUN' or word.pos_ == 'ADJ')\n",
    "                                  and not word.is_stop] for processed_text in processed_texts]\n",
    "\n",
    "  # remove punctuations\n",
    "  punctuations = '!\"#$%&\\'()*+,-./:;<=>?@[\\\\]^_`{|}~' \n",
    "  cleaned = []\n",
    "  for arr in tokenized_texts_sw_lem_vna:\n",
    "    for word in arr:\n",
    "      if word not in punctuations:\n",
    "        cleaned.append(word)\n",
    "\n",
    "  return cleaned\n"
   ]
  },
  {
   "cell_type": "code",
   "execution_count": 16,
   "metadata": {
    "id": "39Ue1z3F0eka"
   },
   "outputs": [],
   "source": [
    "# republican\n",
    "df_republicans = df[df.dominant_party == \"republican\"]\n",
    "republican_texts = preprocessing(df_republicans.tweet)\n",
    "republican_texts[0:10]"
   ]
  },
  {
   "cell_type": "code",
   "execution_count": 17,
   "metadata": {
    "colab": {
     "base_uri": "https://localhost:8080/"
    },
    "id": "BYdIolzK8ztV",
    "outputId": "5c9af3cb-dd1b-456b-f508-d7ba62048c4f"
   },
   "outputs": [
    {
     "data": {
      "text/plain": [
       "['obtain',\n",
       " 'people',\n",
       " 'bat',\n",
       " 'reason',\n",
       " 'lock',\n",
       " 'account',\n",
       " 'report',\n",
       " 'explosive',\n",
       " 'new',\n",
       " 'revelation']"
      ]
     },
     "execution_count": 17,
     "metadata": {},
     "output_type": "execute_result"
    }
   ],
   "source": [
    "republican_texts[0:10]"
   ]
  },
  {
   "cell_type": "code",
   "execution_count": null,
   "metadata": {
    "id": "TleYHWt51zTy"
   },
   "outputs": [],
   "source": [
    "# swing\n",
    "df_swing = df[df.dominant_party == \"swing\"]\n",
    "swing_texts = preprocessing(df_swing.tweet)\n",
    "swing_texts[0:10]"
   ]
  },
  {
   "cell_type": "code",
   "execution_count": null,
   "metadata": {
    "id": "vfQxCPnS2GAt"
   },
   "outputs": [],
   "source": [
    "# democrat\n",
    "df_democrat = df[df.dominant_party == \"democrat\"]\n",
    "democrat_texts = preprocessing(df_democrat.tweet)\n",
    "democrat_texts[:10]"
   ]
  }
 ],
 "metadata": {
  "colab": {
   "name": "DM_Project_Precprocessing.ipynb",
   "provenance": []
  },
  "kernelspec": {
   "display_name": "Python 3 (ipykernel)",
   "language": "python",
   "name": "python3"
  },
  "language_info": {
   "codemirror_mode": {
    "name": "ipython",
    "version": 3
   },
   "file_extension": ".py",
   "mimetype": "text/x-python",
   "name": "python",
   "nbconvert_exporter": "python",
   "pygments_lexer": "ipython3",
   "version": "3.9.7"
  }
 },
 "nbformat": 4,
 "nbformat_minor": 1
}
